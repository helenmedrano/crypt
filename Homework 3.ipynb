{
 "cells": [
  {
   "cell_type": "code",
   "execution_count": 138,
   "metadata": {
    "collapsed": false
   },
   "outputs": [],
   "source": [
    "from math import *"
   ]
  },
  {
   "cell_type": "code",
   "execution_count": 139,
   "metadata": {
    "collapsed": true
   },
   "outputs": [],
   "source": [
    "# 1. Diffie-Hellman Key Exchange\n",
    "# Common prime\n",
    "q = 71\n",
    "\n",
    "# Primitive root\n",
    "a = 7\n",
    "\n",
    "# Private key\n",
    "Xa = 5"
   ]
  },
  {
   "cell_type": "code",
   "execution_count": 140,
   "metadata": {
    "collapsed": false
   },
   "outputs": [
    {
     "name": "stdout",
     "output_type": "stream",
     "text": [
      "#1a:  51\n"
     ]
    }
   ],
   "source": [
    "# a. Computing Xa's public key, Ya\n",
    "# Note % = mod in python\n",
    "Ya = a**Xa % q\n",
    "print(\"#1a: \", Ya)"
   ]
  },
  {
   "cell_type": "code",
   "execution_count": 141,
   "metadata": {
    "collapsed": true
   },
   "outputs": [],
   "source": [
    "# Private key\n",
    "Xb = 12"
   ]
  },
  {
   "cell_type": "code",
   "execution_count": 142,
   "metadata": {
    "collapsed": false
   },
   "outputs": [
    {
     "name": "stdout",
     "output_type": "stream",
     "text": [
      "#1b:  4\n"
     ]
    }
   ],
   "source": [
    "# b. Computing Xb's public key, Yb\n",
    "Yb = a**Xb % q\n",
    "print(\"#1b: \", Yb)"
   ]
  },
  {
   "cell_type": "code",
   "execution_count": 143,
   "metadata": {
    "collapsed": false
   },
   "outputs": [
    {
     "name": "stdout",
     "output_type": "stream",
     "text": [
      "30\n",
      "30\n",
      "#1c:  30\n"
     ]
    }
   ],
   "source": [
    "# c. Check to make sure keys are correct \n",
    "# by computing shared key\n",
    "Kab1 = Ya**Xb % q\n",
    "Kab2 = Yb**Xa % q\n",
    "print(Kab1)\n",
    "print(Kab2)\n",
    "print(\"#1c: \", Kab1)"
   ]
  },
  {
   "cell_type": "code",
   "execution_count": 144,
   "metadata": {
    "collapsed": false
   },
   "outputs": [
    {
     "data": {
      "text/plain": [
       "9"
      ]
     },
     "execution_count": 144,
     "metadata": {},
     "output_type": "execute_result"
    }
   ],
   "source": [
    "#2. ElGamal Scheme\n",
    "# a.\n",
    "# prime\n",
    "q = 71\n",
    "\n",
    "# primitive root\n",
    "a = 7\n",
    "\n",
    "# B's public key\n",
    "Yb = 3\n",
    "\n",
    "# random int\n",
    "k = 2\n",
    "\n",
    "K = Yb**k % q\n",
    "K"
   ]
  },
  {
   "cell_type": "code",
   "execution_count": 145,
   "metadata": {
    "collapsed": false
   },
   "outputs": [
    {
     "name": "stdout",
     "output_type": "stream",
     "text": [
      "C1:  49\n",
      "C2:  57\n",
      "#2a. Ciphertext:  (49, 57)\n"
     ]
    }
   ],
   "source": [
    "M = 30\n",
    "\n",
    "C1 = a**k % q\n",
    "C2 = K*M % q\n",
    "\n",
    "print(\"C1: \", C1)\n",
    "print(\"C2: \", C2)\n",
    "\n",
    "# Ciphertext that sets M to 30 is C2 so M's ciphertext\n",
    "# is 57\n",
    "cipherText = (C1, C2)\n",
    "print(\"#2a. Ciphertext: \", cipherText)"
   ]
  },
  {
   "cell_type": "code",
   "execution_count": 146,
   "metadata": {
    "collapsed": false
   },
   "outputs": [
    {
     "name": "stdout",
     "output_type": "stream",
     "text": [
      "C1:  59\n"
     ]
    }
   ],
   "source": [
    "# b. Find k where encoding of M=30 is C=(59, C2)\n",
    "# What is C2?\n",
    "# C1=59=a**k % q \n",
    "# Solve discrete logarithm\n",
    "# 59 mod 71 = 7**k % 71\n",
    "# 7**70 = 1 mod 71 (Fermat's little theorem)\n",
    "# since q is a prime number (71)\n",
    "# C2 = K*M % q where K=Yb**k % q\n",
    "\n",
    "# verify k = 3 works\n",
    "k = 3\n",
    "C1 = a**k % q\n",
    "print(\"C1: \", C1)"
   ]
  },
  {
   "cell_type": "code",
   "execution_count": 147,
   "metadata": {
    "collapsed": false
   },
   "outputs": [
    {
     "data": {
      "text/plain": [
       "27"
      ]
     },
     "execution_count": 147,
     "metadata": {},
     "output_type": "execute_result"
    }
   ],
   "source": [
    "K = Yb**k % q\n",
    "K"
   ]
  },
  {
   "cell_type": "code",
   "execution_count": 148,
   "metadata": {
    "collapsed": false
   },
   "outputs": [
    {
     "name": "stdout",
     "output_type": "stream",
     "text": [
      "#2b. C2 is:  29\n"
     ]
    }
   ],
   "source": [
    "C2 = K*M % q\n",
    "print(\"#2b. C2 is: \", C2)"
   ]
  },
  {
   "cell_type": "code",
   "execution_count": 149,
   "metadata": {
    "collapsed": false
   },
   "outputs": [
    {
     "name": "stdout",
     "output_type": "stream",
     "text": [
      "#3a. B's public key:  (14, 49)\n"
     ]
    }
   ],
   "source": [
    "# 3. Elliptic curve ElGamal encryption/decryption\n",
    "# E_11(1, 6)\n",
    "# params\n",
    "E_11 = (1, 6)\n",
    "G = (2, 7)\n",
    "# B's secret key\n",
    "n_B = 7\n",
    "# a. Find B's public key P_B\n",
    "P_B = (n_B*G[0], n_B*G[1])\n",
    "print(\"#3a. B's public key: \", P_B)"
   ]
  },
  {
   "cell_type": "code",
   "execution_count": 150,
   "metadata": {
    "collapsed": false
   },
   "outputs": [
    {
     "name": "stdout",
     "output_type": "stream",
     "text": [
      "#3b. Ciphertext:  ((6, 21), (52, 156))\n"
     ]
    }
   ],
   "source": [
    "# b. A wishes to encrypt P_m = (10, 9)\n",
    "# k = 3. What is C_m? - ciphertext\n",
    "# C_m = kG, P_m+k*P_b\n",
    "P_m = (10, 9)\n",
    "k = 3\n",
    "C_m = ((k*G[0], k*G[1]), (P_m[0]+k*P_B[0], P_m[1]+k*P_B[1]))\n",
    "print(\"#3b. Ciphertext: \", C_m)"
   ]
  },
  {
   "cell_type": "code",
   "execution_count": 151,
   "metadata": {
    "collapsed": true
   },
   "outputs": [],
   "source": [
    "# c. Show calculation by which B recovers P_m\n",
    "# from C_m - expressions\n",
    "\n"
   ]
  }
 ],
 "metadata": {
  "kernelspec": {
   "display_name": "Python 3",
   "language": "python",
   "name": "python3"
  },
  "language_info": {
   "codemirror_mode": {
    "name": "ipython",
    "version": 3
   },
   "file_extension": ".py",
   "mimetype": "text/x-python",
   "name": "python",
   "nbconvert_exporter": "python",
   "pygments_lexer": "ipython3",
   "version": "3.5.2"
  }
 },
 "nbformat": 4,
 "nbformat_minor": 1
}
